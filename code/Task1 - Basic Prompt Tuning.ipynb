{
 "cells": [
  {
   "cell_type": "code",
   "execution_count": 0,
   "metadata": {
    "application/vnd.databricks.v1+cell": {
     "cellMetadata": {},
     "inputWidgets": {},
     "nuid": "4c491cba-2175-48db-bb74-617d4ce2df3d",
     "showTitle": false,
     "title": ""
    }
   },
   "outputs": [],
   "source": [
    "from openai import OpenAI\n",
    "import os\n",
    "\n",
    "import os\n",
    "from openai import AzureOpenAI\n",
    "    \n",
    "\n",
    "client = AzureOpenAI(\n",
    "    api_key=os.getenv(\"AZURE_OPENAI_API_KEY\"),  \n",
    "    api_version=\"2023-12-01-preview\",\n",
    "    azure_endpoint=os.getenv(\"AZURE_OPENAI_ENDPOINT\")\n",
    ")"
   ]
  },
  {
   "cell_type": "code",
   "execution_count": 0,
   "metadata": {
    "application/vnd.databricks.v1+cell": {
     "cellMetadata": {},
     "inputWidgets": {},
     "nuid": "2b2bdcfe-aae1-4c62-a04c-d2cfc2761d24",
     "showTitle": false,
     "title": ""
    }
   },
   "outputs": [],
   "source": [
    "def set_open_params(\n",
    "    model=\"gpt-35-turbo\",\n",
    "    temperature=0.9,\n",
    "    max_tokens=300,\n",
    "    top_p=1,\n",
    "    frequency_penalty=0,\n",
    "    presence_penalty=0,\n",
    "):\n",
    "    \"\"\" set openai parameters\"\"\"\n",
    "\n",
    "    openai_params = {}    \n",
    "\n",
    "    openai_params['model'] = model\n",
    "    openai_params['temperature'] = temperature\n",
    "    openai_params['max_tokens'] = max_tokens\n",
    "    openai_params['top_p'] = top_p\n",
    "    openai_params['frequency_penalty'] = frequency_penalty\n",
    "    openai_params['presence_penalty'] = presence_penalty\n",
    "    return openai_params\n",
    "\n",
    "def get_completion(client, params, messages):\n",
    "    \"\"\" GET completion from openai api\"\"\"\n",
    "\n",
    "    response = client.chat.completions.create(\n",
    "        model = params['model'],\n",
    "        messages = messages,\n",
    "        temperature = params['temperature'],\n",
    "        max_tokens = params['max_tokens'],\n",
    "        top_p = params['top_p'],\n",
    "        frequency_penalty = params['frequency_penalty'],\n",
    "        presence_penalty = params['presence_penalty'],\n",
    "    )\n",
    "    return response"
   ]
  },
  {
   "cell_type": "code",
   "execution_count": 0,
   "metadata": {
    "application/vnd.databricks.v1+cell": {
     "cellMetadata": {},
     "inputWidgets": {},
     "nuid": "2c1a767c-6b04-4e7a-a5d6-8e3376158aad",
     "showTitle": false,
     "title": ""
    }
   },
   "outputs": [],
   "source": [
    "from IPython.display import Markdown"
   ]
  },
  {
   "cell_type": "markdown",
   "metadata": {
    "application/vnd.databricks.v1+cell": {
     "cellMetadata": {},
     "inputWidgets": {},
     "nuid": "5ab58112-de60-4b7d-bf45-09e8cd932ed9",
     "showTitle": false,
     "title": ""
    }
   },
   "source": [
    "# Zero-Shot prompt example"
   ]
  },
  {
   "cell_type": "code",
   "execution_count": 0,
   "metadata": {
    "application/vnd.databricks.v1+cell": {
     "cellMetadata": {},
     "inputWidgets": {},
     "nuid": "af22790d-87dd-448a-81fd-be11a810a9a5",
     "showTitle": false,
     "title": ""
    }
   },
   "outputs": [
    {
     "output_type": "execute_result",
     "data": {
      "text/markdown": [
       "```python\n",
       "from pyspark.sql import SparkSession\n",
       "from pyspark.sql import functions as F\n",
       "\n",
       "# create a Spark session\n",
       "spark = SparkSession.builder.appName(\"POS Transactions\").getOrCreate()\n",
       "\n",
       "# read the delta table pos_transactions\n",
       "pos_transactions_df = spark.read.format(\"delta\").load(\"/path/to/pos_transactions\")\n",
       "\n",
       "# select and display required columns\n",
       "selected_df = pos_transactions_df.select(\"StoreNumber\", \"ItemNumber\", \"BusinessDate\", \"TotalSalesAmount\", \"TotalDiscountAmount\", \"RevenueItemInd\")\n",
       "\n",
       "# add NDSAmount column\n",
       "selected_df = selected_df.withColumn(\"NDSAmount\", F.when(F.col(\"RevenueItemInd\") == \"Y\", 0).otherwise(F.col(\"TotalSalesAmount\") - F.col(\"TotalDiscountAmount\")))\n",
       "\n",
       "# count revenue items sold in the store for each day\n",
       "revenue_items_count = selected_df.filter(F.col(\"RevenueItemInd\") == \"Y\").groupby(\"StoreNumber\", \"BusinessDate\").agg(F.count(\"ItemNumber\").alias(\"RevenueItemsSold\"))\n",
       "\n",
       "# display the dataframe\n",
       "selected_df.show()\n",
       "revenue_items_count.show()\n",
       "\n",
       "# stop the Spark session\n",
       "spark.stop()\n",
       "```"
      ],
      "text/plain": [
       "<IPython.core.display.Markdown object>"
      ]
     },
     "execution_count": 28,
     "metadata": {},
     "output_type": "execute_result"
    }
   ],
   "source": [
    "prompt = \"write a pyspark code to read and display StoreNumber, ItemNumber,BusinessDate, TotalSalesAmount, TotalDiscountAmount and RevenueItemInd from the delta table pos_transactions. Add a column called NDSAmount which will have value of 0 if RevenueItemInd is Y else TotalSalesAmount - TotalDiscountAmount. Also count and display how many revenue items are sold in the store for each day\"\n",
    "\n",
    "messages = [\n",
    "    {\n",
    "        \"role\": \"user\",\n",
    "        \"content\": prompt\n",
    "    }\n",
    "]\n",
    "\n",
    "response = get_completion(client, params, messages)\n",
    "Markdown(response.choices[0].message.content)"
   ]
  },
  {
   "cell_type": "markdown",
   "metadata": {
    "application/vnd.databricks.v1+cell": {
     "cellMetadata": {},
     "inputWidgets": {},
     "nuid": "a4c858f9-7239-455a-b39d-b1fded8341f7",
     "showTitle": false,
     "title": ""
    }
   },
   "source": [
    "# Few-Shot prompt example"
   ]
  },
  {
   "cell_type": "code",
   "execution_count": 0,
   "metadata": {
    "application/vnd.databricks.v1+cell": {
     "cellMetadata": {},
     "inputWidgets": {},
     "nuid": "e737c693-5549-42ea-b1db-a99b36be5ed4",
     "showTitle": false,
     "title": ""
    }
   },
   "outputs": [
    {
     "output_type": "execute_result",
     "data": {
      "text/markdown": [
       "```python\n",
       "from pyspark.sql import SparkSession\n",
       "from pyspark.sql import functions as F\n",
       "\n",
       "# Create a Spark session\n",
       "spark = SparkSession.builder.appName(\"pos_transactions_analysis\").getOrCreate()\n",
       "\n",
       "# Read the delta table pos_transactions\n",
       "pos_transactions = spark.read.format(\"delta\").load(\"path_to_delta_table\")\n",
       "\n",
       "# Display StoreNumber, ItemNumber, BusinessDate, TotalSalesAmount, TotalDiscountAmount, RevenueItemInd\n",
       "# and calculate NDSAmount based on RevenueItemInd\n",
       "pos_transactions = pos_transactions.withColumn(\"NDSAmount\",\n",
       "                                               F.when(F.col(\"RevenueItemInd\") == \"Y\", 0)\n",
       "                                               .otherwise(F.col(\"TotalSalesAmount\") - F.col(\"TotalDiscountAmount\")))\n",
       "pos_transactions.select(\"StoreNumber\", \"ItemNumber\", \"BusinessDate\", \"TotalSalesAmount\",\n",
       "                       \"TotalDiscountAmount\", \"RevenueItemInd\", \"NDSAmount\").show()\n",
       "\n",
       "# Count and display how many revenue items are sold in the store for each businessdate\n",
       "revenue_items_count = pos_transactions.filter(pos_transactions[\"RevenueItemInd\"] == \"Y\") \\\n",
       "    .groupBy(\"StoreNumber\", \"BusinessDate\").agg(F.count(\"*\").alias(\"RevenueItemsCount\"))\n",
       "revenue_items_count.show()\n",
       "```"
      ],
      "text/plain": [
       "<IPython.core.display.Markdown object>"
      ]
     },
     "execution_count": 29,
     "metadata": {},
     "output_type": "execute_result"
    }
   ],
   "source": [
    "prompt = \"\"\"write a pyspark code to read and display StoreNumber, ItemNumber,BusinessDate, TotalSalesAmount, TotalDiscountAmount and RevenueItemInd from the delta table pos_transactions. \n",
    "Add a column called NDSAmount which will have value of 0 if RevenueItemInd is Y else TotalSalesAmount - TotalDiscountAmount. Use case when statement to find NDSAmount.\n",
    "Also count and display how many revenue items are sold in the store for each businessdate. \n",
    "For example, if 5 items are marked as revenueItemInd as Y then the sum of remaining items when revenueItemInd is N gives this value\"\"\"\n",
    "\n",
    "messages = [\n",
    "    {\n",
    "        \"role\": \"user\",\n",
    "        \"content\": prompt\n",
    "    }\n",
    "]\n",
    "\n",
    "response = get_completion(client, params, messages)\n",
    "Markdown(response.choices[0].message.content)"
   ]
  }
 ],
 "metadata": {
  "application/vnd.databricks.v1+notebook": {
   "dashboards": [],
   "language": "python",
   "notebookMetadata": {
    "pythonIndentUnit": 2
   },
   "notebookName": "Task1 - Basic Prompt Tuning",
   "widgets": {}
  },
  "kernelspec": {
   "display_name": "Python 3 (ipykernel)",
   "language": "python",
   "name": "python3"
  },
  "language_info": {
   "codemirror_mode": {
    "name": "ipython",
    "version": 3
   },
   "file_extension": ".py",
   "mimetype": "text/x-python",
   "name": "python",
   "nbconvert_exporter": "python",
   "pygments_lexer": "ipython3",
   "version": "3.10.9"
  }
 },
 "nbformat": 4,
 "nbformat_minor": 0
}
